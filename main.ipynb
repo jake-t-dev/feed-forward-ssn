{
 "cells": [
  {
   "cell_type": "code",
   "execution_count": null,
   "id": "1f7c4dc6",
   "metadata": {},
   "outputs": [
    {
     "ename": "ModuleNotFoundError",
     "evalue": "No module named 'pandas'",
     "output_type": "error",
     "traceback": [
      "\u001b[31m---------------------------------------------------------------------------\u001b[39m",
      "\u001b[31mModuleNotFoundError\u001b[39m                       Traceback (most recent call last)",
      "\u001b[36mCell\u001b[39m\u001b[36m \u001b[39m\u001b[32mIn[1]\u001b[39m\u001b[32m, line 2\u001b[39m\n\u001b[32m      1\u001b[39m \u001b[38;5;28;01mimport\u001b[39;00m\u001b[38;5;250m \u001b[39m\u001b[34;01msnntorch\u001b[39;00m\u001b[38;5;250m \u001b[39m\u001b[38;5;28;01mas\u001b[39;00m\u001b[38;5;250m \u001b[39m\u001b[34;01msnn\u001b[39;00m\n\u001b[32m----> \u001b[39m\u001b[32m2\u001b[39m \u001b[38;5;28;01mfrom\u001b[39;00m\u001b[38;5;250m \u001b[39m\u001b[34;01msnntorch\u001b[39;00m\u001b[38;5;250m \u001b[39m\u001b[38;5;28;01mimport\u001b[39;00m spikeplot \u001b[38;5;28;01mas\u001b[39;00m splt\n\u001b[32m      3\u001b[39m \u001b[38;5;28;01mfrom\u001b[39;00m\u001b[38;5;250m \u001b[39m\u001b[34;01msnntorch\u001b[39;00m\u001b[38;5;250m \u001b[39m\u001b[38;5;28;01mimport\u001b[39;00m spikegen\n\u001b[32m      5\u001b[39m \u001b[38;5;28;01mimport\u001b[39;00m\u001b[38;5;250m \u001b[39m\u001b[34;01mtorch\u001b[39;00m\n",
      "\u001b[36mFile \u001b[39m\u001b[32m~\\AppData\\Local\\Packages\\PythonSoftwareFoundation.Python.3.11_qbz5n2kfra8p0\\LocalCache\\local-packages\\Python311\\site-packages\\snntorch\\spikeplot.py:2\u001b[39m\n\u001b[32m      1\u001b[39m \u001b[38;5;28;01mimport\u001b[39;00m\u001b[38;5;250m \u001b[39m\u001b[34;01mtorch\u001b[39;00m\n\u001b[32m----> \u001b[39m\u001b[32m2\u001b[39m \u001b[38;5;28;01mimport\u001b[39;00m\u001b[38;5;250m \u001b[39m\u001b[34;01mpandas\u001b[39;00m\u001b[38;5;250m \u001b[39m\u001b[38;5;28;01mas\u001b[39;00m\u001b[38;5;250m \u001b[39m\u001b[34;01mpd\u001b[39;00m\n\u001b[32m      3\u001b[39m \u001b[38;5;28;01mimport\u001b[39;00m\u001b[38;5;250m \u001b[39m\u001b[34;01mmatplotlib\u001b[39;00m\u001b[34;01m.\u001b[39;00m\u001b[34;01mpyplot\u001b[39;00m\u001b[38;5;250m \u001b[39m\u001b[38;5;28;01mas\u001b[39;00m\u001b[38;5;250m \u001b[39m\u001b[34;01mplt\u001b[39;00m\n\u001b[32m      4\u001b[39m \u001b[38;5;28;01mfrom\u001b[39;00m\u001b[38;5;250m \u001b[39m\u001b[34;01mmatplotlib\u001b[39;00m\u001b[34;01m.\u001b[39;00m\u001b[34;01mgridspec\u001b[39;00m\u001b[38;5;250m \u001b[39m\u001b[38;5;28;01mimport\u001b[39;00m GridSpec\n",
      "\u001b[31mModuleNotFoundError\u001b[39m: No module named 'pandas'"
     ]
    }
   ],
   "source": [
    "import snntorch as snn\n",
    "from snntorch import spikeplot as splt\n",
    "from snntorch import spikegen\n",
    "\n",
    "import torch\n",
    "import torch.nn as nn\n",
    "\n",
    "import matplotlib.pyplot as plt"
   ]
  },
  {
   "cell_type": "code",
   "execution_count": null,
   "id": "3fa7e892",
   "metadata": {},
   "outputs": [],
   "source": [
    "def leaky_integrate_and_fire(mem, x, w, beta, threshold=1):\n",
    "    spk = (mem >= threshold) # if membrane potential exceeds threshold, neuron fires\n",
    "    mem = beta * mem + w*x -spk*threshold # update membrane potential\n",
    "    return spk, mem"
   ]
  },
  {
   "cell_type": "code",
   "execution_count": null,
   "id": "e3565483",
   "metadata": {},
   "outputs": [],
   "source": [
    "# set neuronal parameters\n",
    "delta_t = torch.tensor(1e-3)  # time step\n",
    "tau = torch.tensor(5e-3)  # membrane time constant\n",
    "beta = torch.exp(-delta_t / tau)  # decay factor"
   ]
  },
  {
   "cell_type": "code",
   "execution_count": null,
   "id": "5450f96c",
   "metadata": {},
   "outputs": [],
   "source": [
    "print(f\"The decay rate is {beta:.3f}\")"
   ]
  },
  {
   "cell_type": "code",
   "execution_count": null,
   "id": "cd724d59",
   "metadata": {},
   "outputs": [],
   "source": [
    "num_steps = 200 # number of time steps to simulate\n",
    "\n",
    "# initialize inputs/outputs + small step current input\n",
    "x = torch.cat((torch.zeros(10), torch.ones(190)*0.5), 0)\n",
    "mem = torch.zeros(1)\n",
    "spk_out = torch.zeros(1)\n",
    "mem_rec = []\n",
    "spk_rec = []\n",
    "\n",
    "# neuron parameters\n",
    "w = 0.4\n",
    "beta = 0.819\n",
    "\n",
    "# neuron simulation over time\n",
    "for step in range(num_steps):\n",
    "    spk_out, mem = leaky_integrate_and_fire(mem, x[step], w, beta)\n",
    "    mem_rec.append(mem.item())\n",
    "    spk_rec.append(spk_out.item())\n",
    "\n",
    "# conver lists to tensors\n",
    "mem_rec = torch.tensor(mem_rec)\n",
    "spk_rec = torch.tensor(spk_rec)\n",
    "\n",
    "# plot results\n",
    "plot_cur_mem_spk(x*w, mem_rec, spk_rec, thr_line=1, ylim_max1=0.5, title=\"LIF Neuron Model With Weighted Step Voltage Input\")"
   ]
  }
 ],
 "metadata": {
  "kernelspec": {
   "display_name": "Python 3",
   "language": "python",
   "name": "python3"
  },
  "language_info": {
   "codemirror_mode": {
    "name": "ipython",
    "version": 3
   },
   "file_extension": ".py",
   "mimetype": "text/x-python",
   "name": "python",
   "nbconvert_exporter": "python",
   "pygments_lexer": "ipython3",
   "version": "3.11.9"
  }
 },
 "nbformat": 4,
 "nbformat_minor": 5
}
